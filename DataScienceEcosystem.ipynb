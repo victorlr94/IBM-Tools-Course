{
 "cells": [
  {
   "cell_type": "markdown",
   "id": "9fd46cc9-d7b7-41d8-9c76-5473d828a9cf",
   "metadata": {},
   "source": [
    "# Data Science Tools and Ecosystem"
   ]
  },
  {
   "cell_type": "markdown",
   "id": "c1583bff-ddec-4f51-8928-4344f9bde8c9",
   "metadata": {},
   "source": [
    "## In this notebook, Data Science Tools and Ecosystem are summarized."
   ]
  },
  {
   "cell_type": "markdown",
   "id": "7786bc24-3eb8-4c6c-8ffc-84d5a45c3727",
   "metadata": {},
   "source": [
    "## Some of the popular languages that Data Scientists use are:\n",
    "1. Python\n",
    "2. R\n",
    "3. SQL\n",
    "4. C++"
   ]
  },
  {
   "cell_type": "markdown",
   "id": "afbc26b3-a69c-427b-9e08-b65c7e897051",
   "metadata": {},
   "source": [
    "## Some of the commonly used libraries used by Data Scientists include:\n",
    "1. Pandas\n",
    "2. NumPy\n",
    "3. Scikit-learn"
   ]
  },
  {
   "cell_type": "markdown",
   "id": "25faffab-73cd-4d1a-9bc0-b8d3103235a4",
   "metadata": {},
   "source": [
    "|Data Science Tools|\n",
    "|------------------|\n",
    "|JupiterLab|\n",
    "|Jupiter Notebook|\n",
    "|RStudio|"
   ]
  },
  {
   "cell_type": "markdown",
   "id": "88408621-00b0-43aa-8660-2af3663a0beb",
   "metadata": {},
   "source": [
    "### Below are a few examples of evaluating arithmetic expressions in Python"
   ]
  },
  {
   "cell_type": "code",
   "execution_count": 13,
   "id": "395ca75c-44f5-40b3-bc93-007e417007f9",
   "metadata": {},
   "outputs": [
    {
     "data": {
      "text/plain": [
       "17"
      ]
     },
     "execution_count": 13,
     "metadata": {},
     "output_type": "execute_result"
    }
   ],
   "source": [
    "# This is a simple arithmetic expression to multiply then add integers\n",
    "3*4+5"
   ]
  },
  {
   "cell_type": "code",
   "execution_count": 23,
   "id": "6fabcbd7-67e1-436b-84c5-aa709ffc1286",
   "metadata": {},
   "outputs": [
    {
     "data": {
      "text/plain": [
       "3.3333333333333335"
      ]
     },
     "execution_count": 23,
     "metadata": {},
     "output_type": "execute_result"
    }
   ],
   "source": [
    "# This will convert 200 minutes to hours by dividing by 60\n",
    "200/60"
   ]
  },
  {
   "cell_type": "markdown",
   "id": "3d9588f6-3ec9-42ee-a063-cac89b418f9e",
   "metadata": {},
   "source": [
    "## Objectives:\n",
    "- List opular languages for Data Science.\n",
    "- Make basic arithmetic operations.\n",
    "- Create tables.\n",
    "- Use different levels of markdown text.\n",
    "- List different Open Source environments."
   ]
  },
  {
   "cell_type": "markdown",
   "id": "b4eab7a8-6aee-466b-81e0-120efe77cbcb",
   "metadata": {},
   "source": [
    "## Author:\n"
   ]
  }
 ],
 "metadata": {
  "kernelspec": {
   "display_name": "Python 3 (ipykernel)",
   "language": "python",
   "name": "python3"
  },
  "language_info": {
   "codemirror_mode": {
    "name": "ipython",
    "version": 3
   },
   "file_extension": ".py",
   "mimetype": "text/x-python",
   "name": "python",
   "nbconvert_exporter": "python",
   "pygments_lexer": "ipython3",
   "version": "3.12.4"
  }
 },
 "nbformat": 4,
 "nbformat_minor": 5
}
